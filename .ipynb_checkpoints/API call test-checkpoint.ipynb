{
 "cells": [
  {
   "cell_type": "code",
   "execution_count": 2,
   "metadata": {
    "collapsed": false
   },
   "outputs": [
    {
     "name": "stderr",
     "output_type": "stream",
     "text": [
      "/usr/local/lib/python2.7/site-packages/matplotlib/__init__.py:872: UserWarning: axes.color_cycle is deprecated and replaced with axes.prop_cycle; please use the latter.\n",
      "  warnings.warn(self.msg_depr % (key, alt_key))\n"
     ]
    }
   ],
   "source": [
    "%matplotlib inline\n",
    "\n",
    "import pandas as pd\n",
    "import numpy as np\n",
    "import seaborn as sns\n",
    "from ggplot import *\n",
    "import datetime\n",
    "import requests"
   ]
  },
  {
   "cell_type": "code",
   "execution_count": 3,
   "metadata": {
    "collapsed": false
   },
   "outputs": [],
   "source": [
    "url = \"https://api.lendingclub.com/api/investor/v1/loans/listing\"\n",
    "key = \"hdjiHts6C+hYUyMPyBQdzShmQSw=\"\n",
    "r = requests.get(url, headers={'Authorization': key})"
   ]
  },
  {
   "cell_type": "code",
   "execution_count": null,
   "metadata": {
    "collapsed": false
   },
   "outputs": [],
   "source": []
  },
  {
   "cell_type": "code",
   "execution_count": 4,
   "metadata": {
    "collapsed": false
   },
   "outputs": [],
   "source": [
    "f = r.json()"
   ]
  },
  {
   "cell_type": "code",
   "execution_count": 7,
   "metadata": {
    "collapsed": false
   },
   "outputs": [
    {
     "data": {
      "text/plain": [
       "121"
      ]
     },
     "execution_count": 7,
     "metadata": {},
     "output_type": "execute_result"
    }
   ],
   "source": [
    "len(f['loans'])"
   ]
  },
  {
   "cell_type": "code",
   "execution_count": 37,
   "metadata": {
    "collapsed": false
   },
   "outputs": [],
   "source": [
    "csv_loans = pd.read_csv('../data/LoanStats3a_securev1.csv', header=1)"
   ]
  },
  {
   "cell_type": "code",
   "execution_count": 33,
   "metadata": {
    "collapsed": false
   },
   "outputs": [
    {
     "data": {
      "text/plain": [
       "{'desc', 'dti', 'grade', 'id', 'installment', 'purpose', 'term'}"
      ]
     },
     "execution_count": 33,
     "metadata": {},
     "output_type": "execute_result"
    }
   ],
   "source": [
    "set(loans.columns) & set(cols)"
   ]
  },
  {
   "cell_type": "code",
   "execution_count": 1,
   "metadata": {
    "collapsed": false
   },
   "outputs": [
    {
     "ename": "NameError",
     "evalue": "name 'f' is not defined",
     "output_type": "error",
     "traceback": [
      "\u001b[0;31m---------------------------------------------------------------------------\u001b[0m",
      "\u001b[0;31mNameError\u001b[0m                                 Traceback (most recent call last)",
      "\u001b[0;32m<ipython-input-1-9a8ad92c50ca>\u001b[0m in \u001b[0;36m<module>\u001b[0;34m()\u001b[0m\n\u001b[0;32m----> 1\u001b[0;31m \u001b[0mf\u001b[0m\u001b[0;34m\u001b[0m\u001b[0m\n\u001b[0m",
      "\u001b[0;31mNameError\u001b[0m: name 'f' is not defined"
     ]
    }
   ],
   "source": [
    "f"
   ]
  },
  {
   "cell_type": "code",
   "execution_count": 42,
   "metadata": {
    "collapsed": false
   },
   "outputs": [
    {
     "data": {
      "text/plain": [
       "[('acc_now_delinq', u'accNowDelinq'),\n",
       " ('addr_state', u'accOpenPast24Mths'),\n",
       " ('all_util', u'acceptD'),\n",
       " ('annual_inc', u'addrState'),\n",
       " ('annual_inc_joint', u'addrZip'),\n",
       " ('application_type', u'allUtil'),\n",
       " ('collection_recovery_fee', u'annualInc'),\n",
       " ('collections_12_mths_ex_med', u'annualIncJoint'),\n",
       " ('delinq_2yrs', u'applicationType'),\n",
       " ('desc', u'avgCurBal'),\n",
       " ('dti', u'bcOpenToBuy'),\n",
       " ('dti_joint', u'bcUtil'),\n",
       " ('earliest_cr_line', u'chargeoffWithin12Mths'),\n",
       " ('emp_length', u'collections12MthsExMed'),\n",
       " ('emp_title', u'creditPullD'),\n",
       " ('fico_range_high', u'delinq2Yrs'),\n",
       " ('fico_range_low', u'delinqAmnt'),\n",
       " ('funded_amnt', u'desc'),\n",
       " ('funded_amnt_inv', u'dti'),\n",
       " ('grade', u'dtiJoint'),\n",
       " ('home_ownership', u'earliestCrLine'),\n",
       " ('id', u'empLength'),\n",
       " ('il_util', u'empTitle'),\n",
       " ('initial_list_status', u'expD'),\n",
       " ('inq_fi', u'expDefaultRate'),\n",
       " ('inq_last_12m', u'ficoRangeHigh'),\n",
       " ('inq_last_6mths', u'ficoRangeLow'),\n",
       " ('installment', u'fundedAmount'),\n",
       " ('int_rate', u'grade'),\n",
       " ('issue_d', u'homeOwnership'),\n",
       " ('last_credit_pull_d', u'iLUtil'),\n",
       " ('last_fico_range_high', u'id'),\n",
       " ('last_fico_range_low', u'ilsExpD'),\n",
       " ('last_pymnt_amnt', u'initialListStatus'),\n",
       " ('last_pymnt_d', u'inqFi'),\n",
       " ('loan_amnt', u'inqLast12m'),\n",
       " ('loan_status', u'inqLast6Mths'),\n",
       " ('max_bal_bc', u'installment'),\n",
       " ('member_id', u'intRate'),\n",
       " ('mths_since_last_delinq', u'investorCount'),\n",
       " ('mths_since_last_major_derog', u'isIncV'),\n",
       " ('mths_since_last_record', u'isIncVJoint'),\n",
       " ('mths_since_rcnt_il', u'listD'),\n",
       " ('next_pymnt_d', u'loanAmount'),\n",
       " ('open_acc', u'maxBalBc'),\n",
       " ('open_acc_6m', u'memberId'),\n",
       " ('open_il_12m', u'moSinOldIlAcct'),\n",
       " ('open_il_24m', u'moSinOldRevTlOp'),\n",
       " ('open_il_6m', u'moSinRcntRevTlOp'),\n",
       " ('open_rv_12m', u'moSinRcntTl'),\n",
       " ('open_rv_24m', u'mortAcc'),\n",
       " ('out_prncp', u'mthsSinceLastDelinq'),\n",
       " ('out_prncp_inv', u'mthsSinceLastMajorDerog'),\n",
       " ('policy_code', u'mthsSinceLastRecord'),\n",
       " ('pub_rec', u'mthsSinceRcntIl'),\n",
       " ('purpose', u'mthsSinceRecentBc'),\n",
       " ('pymnt_plan', u'mthsSinceRecentBcDlq'),\n",
       " ('recoveries', u'mthsSinceRecentInq'),\n",
       " ('revol_bal', u'mthsSinceRecentRevolDelinq'),\n",
       " ('revol_util', u'numAcctsEver120Ppd'),\n",
       " ('sub_grade', u'numActvBcTl'),\n",
       " ('term', u'numActvRevTl'),\n",
       " ('title', u'numBcSats'),\n",
       " ('tot_coll_amt', u'numBcTl'),\n",
       " ('tot_cur_bal', u'numIlTl'),\n",
       " ('total_acc', u'numOpRevTl'),\n",
       " ('total_bal_il', u'numRevAccts'),\n",
       " ('total_credit_rv', u'numRevTlBalGt0'),\n",
       " ('total_fi_tl', u'numSats'),\n",
       " ('total_pymnt', u'numTl120dpd2m'),\n",
       " ('total_pymnt_inv', u'numTl30dpd'),\n",
       " ('total_rec_int', u'numTl90gDpd24m'),\n",
       " ('total_rec_late_fee', u'numTlOpPast12m'),\n",
       " ('total_rec_prncp', u'openAcc'),\n",
       " ('url', u'openAcc6m'),\n",
       " ('verification_status', u'openIl12m'),\n",
       " ('verification_status_joint', u'openIl24m'),\n",
       " ('zip_code', u'openIl6m')]"
      ]
     },
     "execution_count": 42,
     "metadata": {},
     "output_type": "execute_result"
    }
   ],
   "source": [
    "zip(sorted(csv_loans.columns), sorted(api_loans_cols))"
   ]
  },
  {
   "cell_type": "code",
   "execution_count": null,
   "metadata": {
    "collapsed": true
   },
   "outputs": [],
   "source": []
  }
 ],
 "metadata": {
  "kernelspec": {
   "display_name": "Python 2",
   "language": "python",
   "name": "python2"
  },
  "language_info": {
   "codemirror_mode": {
    "name": "ipython",
    "version": 2
   },
   "file_extension": ".py",
   "mimetype": "text/x-python",
   "name": "python",
   "nbconvert_exporter": "python",
   "pygments_lexer": "ipython2",
   "version": "2.7.9"
  }
 },
 "nbformat": 4,
 "nbformat_minor": 0
}
